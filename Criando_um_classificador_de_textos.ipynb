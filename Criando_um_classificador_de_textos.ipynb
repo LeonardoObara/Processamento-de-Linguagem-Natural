{
  "nbformat": 4,
  "nbformat_minor": 0,
  "metadata": {
    "colab": {
      "provenance": [],
      "collapsed_sections": [
        "a8Rn3fkrDd3I",
        "M9w23IaiIf5q",
        "v7BFVB-nI-XJ"
      ],
      "toc_visible": true
    },
    "kernelspec": {
      "name": "python3",
      "display_name": "Python 3"
    },
    "language_info": {
      "name": "python"
    }
  },
  "cells": [
    {
      "cell_type": "markdown",
      "source": [
        "# **Criando um classificador de textos**\n",
        "\n",
        "---\n",
        "\n",
        "\n",
        "***Para isso vamos importar algumas bibliotecas.*** \n",
        "\n",
        "*CountVectorizer*: para transformar um texto em vetor.  \n",
        "*TfidfTransformer*: para fazer a normalização dos dados.  \n",
        "*MultinomialNB*: para assumir a independência total das features do modelo.  \n",
        "*Pipeline*: para trabalhar com uma seguência de tarefas.  \n",
        "*SnowballStemmer*: para reduzir uma palavra para a sua forma base.  \n",
        "*SGDClassifier*: para as previsões finais do pipeline.  \n",
        "*GridSearchCV*: para automatizar o ajuste dos processos.  \n",
        "*f1_score*: para a visualização a precisão e recall juntas.  \n",
        "*accuracy_score*: para caulo (todos os acertos / total).  \n",
        "*confusion_matrix*: tabela para auxiliar a avaliação do modelo.  \n",
        "*classification_report*: retornar um relatório.  \n",
        "*ConfusionMatrixDisplay*: exibe em forma de imagem.  "
      ],
      "metadata": {
        "id": "ec0_CH1rDgMk"
      }
    },
    {
      "cell_type": "code",
      "execution_count": 1,
      "metadata": {
        "id": "Theu5zQ2DcSI"
      },
      "outputs": [],
      "source": [
        "from sklearn.datasets import fetch_20newsgroups \n",
        "import pandas as pd \n",
        "from sklearn.feature_extraction.text import CountVectorizer, TfidfTransformer \n",
        "from sklearn.naive_bayes import MultinomialNB \n",
        "from sklearn.pipeline import Pipeline \n",
        "from nltk.stem.snowball import SnowballStemmer \n",
        "import numpy as np\n",
        "from sklearn.linear_model import SGDClassifier \n",
        "from sklearn.model_selection import GridSearchCV\n",
        "import nltk \n",
        "from sklearn.metrics import f1_score, accuracy_score, confusion_matrix, classification_report, ConfusionMatrixDisplay\n",
        "import warnings\n",
        "import matplotlib.pyplot as plt \n",
        "warnings.simplefilter('ignore')"
      ]
    },
    {
      "cell_type": "markdown",
      "source": [
        "# **Carregando o Dataset**\n",
        "\n",
        "\n",
        "\n",
        "\n",
        "Vamos usar o dataset fetch 20 new groups pois ele retorna uma lista de textos divididos em 20 grupos para serem alimentados por extratores de textos."
      ],
      "metadata": {
        "id": "a8Rn3fkrDd3I"
      }
    },
    {
      "cell_type": "code",
      "source": [
        "newsgroups = fetch_20newsgroups(subset='train')"
      ],
      "metadata": {
        "id": "2F8k1odRDerP"
      },
      "execution_count": 2,
      "outputs": []
    },
    {
      "cell_type": "markdown",
      "source": [
        "**Mostrando os grupos dentro do dataset.**"
      ],
      "metadata": {
        "id": "Urj77DFlIB0R"
      }
    },
    {
      "cell_type": "code",
      "source": [
        "list(newsgroups.target_names)"
      ],
      "metadata": {
        "colab": {
          "base_uri": "https://localhost:8080/"
        },
        "id": "FrrT-an4IKE5",
        "outputId": "9f590dec-c55d-4b96-8e0b-2527d8cc21e1"
      },
      "execution_count": 3,
      "outputs": [
        {
          "output_type": "execute_result",
          "data": {
            "text/plain": [
              "['alt.atheism',\n",
              " 'comp.graphics',\n",
              " 'comp.os.ms-windows.misc',\n",
              " 'comp.sys.ibm.pc.hardware',\n",
              " 'comp.sys.mac.hardware',\n",
              " 'comp.windows.x',\n",
              " 'misc.forsale',\n",
              " 'rec.autos',\n",
              " 'rec.motorcycles',\n",
              " 'rec.sport.baseball',\n",
              " 'rec.sport.hockey',\n",
              " 'sci.crypt',\n",
              " 'sci.electronics',\n",
              " 'sci.med',\n",
              " 'sci.space',\n",
              " 'soc.religion.christian',\n",
              " 'talk.politics.guns',\n",
              " 'talk.politics.mideast',\n",
              " 'talk.politics.misc',\n",
              " 'talk.religion.misc']"
            ]
          },
          "metadata": {},
          "execution_count": 3
        }
      ]
    },
    {
      "cell_type": "markdown",
      "source": [
        "Escolhendo 10 grupos e fazendo o treino e teste."
      ],
      "metadata": {
        "id": "8q1rCv__ITMq"
      }
    },
    {
      "cell_type": "code",
      "source": [
        "categories = ['alt.atheism', 'soc.religion.christian','rec.motorcycles','rec.autos','comp.graphics','comp.os.ms-windows.misc','comp.sys.ibm.pc.hardware','sci.electronics','talk.politics.guns','sci.space',] \n",
        "df_train = fetch_20newsgroups(subset='train', categories=categories, shuffle=True, random_state=42)\n",
        "df_test = fetch_20newsgroups(subset='test', categories=categories, shuffle=True)"
      ],
      "metadata": {
        "id": "FYdAyugrIaDN"
      },
      "execution_count": 4,
      "outputs": []
    },
    {
      "cell_type": "markdown",
      "source": [
        "# **Apresentando as classes (grupos)**"
      ],
      "metadata": {
        "id": "M9w23IaiIf5q"
      }
    },
    {
      "cell_type": "code",
      "source": [
        "df_train.target_names"
      ],
      "metadata": {
        "colab": {
          "base_uri": "https://localhost:8080/"
        },
        "id": "viyA8n5fIjyU",
        "outputId": "d7f3a79b-18f0-4758-d11c-73fe0e8b961f"
      },
      "execution_count": 5,
      "outputs": [
        {
          "output_type": "execute_result",
          "data": {
            "text/plain": [
              "['alt.atheism',\n",
              " 'comp.graphics',\n",
              " 'comp.os.ms-windows.misc',\n",
              " 'comp.sys.ibm.pc.hardware',\n",
              " 'rec.autos',\n",
              " 'rec.motorcycles',\n",
              " 'sci.electronics',\n",
              " 'sci.space',\n",
              " 'soc.religion.christian',\n",
              " 'talk.politics.guns']"
            ]
          },
          "metadata": {},
          "execution_count": 5
        }
      ]
    },
    {
      "cell_type": "markdown",
      "source": [
        "convertendo para matriz uma coleção de texto, produzindo uma representação das contagens instanciando o algoritimo do count vectorizer."
      ],
      "metadata": {
        "id": "jJN-nFAkIowz"
      }
    },
    {
      "cell_type": "code",
      "source": [
        "count_vect = CountVectorizer() \n",
        "X_train_counts = count_vect.fit_transform(df_train.data)\n",
        "X_train_counts.shape"
      ],
      "metadata": {
        "colab": {
          "base_uri": "https://localhost:8080/"
        },
        "id": "jen_s3OcIvqp",
        "outputId": "fe2068f0-f17a-4cd6-f113-3f6594c38426"
      },
      "execution_count": 6,
      "outputs": [
        {
          "output_type": "execute_result",
          "data": {
            "text/plain": [
              "(5766, 92584)"
            ]
          },
          "metadata": {},
          "execution_count": 6
        }
      ]
    },
    {
      "cell_type": "code",
      "source": [
        "tfidf_transformer = TfidfTransformer() \n",
        "X_train_tfidf = tfidf_transformer.fit_transform(X_train_counts)"
      ],
      "metadata": {
        "id": "fKEn1RHnI480"
      },
      "execution_count": 7,
      "outputs": []
    },
    {
      "cell_type": "markdown",
      "source": [
        "# ***Abordagem I***\n",
        "\n",
        "**Treinando um modelo**\n",
        "\n",
        "Utilizando o pipeline para as tarefaz serem execultadas em seguência."
      ],
      "metadata": {
        "id": "v7BFVB-nI-XJ"
      }
    },
    {
      "cell_type": "code",
      "source": [
        "clf = MultinomialNB() \n",
        "clf.fit(X_train_tfidf, df_train.target)"
      ],
      "metadata": {
        "colab": {
          "base_uri": "https://localhost:8080/",
          "height": 75
        },
        "id": "8imqcUiZJgyj",
        "outputId": "dd2b9c6b-51c8-4e84-9228-9203682a0756"
      },
      "execution_count": 8,
      "outputs": [
        {
          "output_type": "execute_result",
          "data": {
            "text/plain": [
              "MultinomialNB()"
            ],
            "text/html": [
              "<style>#sk-container-id-1 {color: black;background-color: white;}#sk-container-id-1 pre{padding: 0;}#sk-container-id-1 div.sk-toggleable {background-color: white;}#sk-container-id-1 label.sk-toggleable__label {cursor: pointer;display: block;width: 100%;margin-bottom: 0;padding: 0.3em;box-sizing: border-box;text-align: center;}#sk-container-id-1 label.sk-toggleable__label-arrow:before {content: \"▸\";float: left;margin-right: 0.25em;color: #696969;}#sk-container-id-1 label.sk-toggleable__label-arrow:hover:before {color: black;}#sk-container-id-1 div.sk-estimator:hover label.sk-toggleable__label-arrow:before {color: black;}#sk-container-id-1 div.sk-toggleable__content {max-height: 0;max-width: 0;overflow: hidden;text-align: left;background-color: #f0f8ff;}#sk-container-id-1 div.sk-toggleable__content pre {margin: 0.2em;color: black;border-radius: 0.25em;background-color: #f0f8ff;}#sk-container-id-1 input.sk-toggleable__control:checked~div.sk-toggleable__content {max-height: 200px;max-width: 100%;overflow: auto;}#sk-container-id-1 input.sk-toggleable__control:checked~label.sk-toggleable__label-arrow:before {content: \"▾\";}#sk-container-id-1 div.sk-estimator input.sk-toggleable__control:checked~label.sk-toggleable__label {background-color: #d4ebff;}#sk-container-id-1 div.sk-label input.sk-toggleable__control:checked~label.sk-toggleable__label {background-color: #d4ebff;}#sk-container-id-1 input.sk-hidden--visually {border: 0;clip: rect(1px 1px 1px 1px);clip: rect(1px, 1px, 1px, 1px);height: 1px;margin: -1px;overflow: hidden;padding: 0;position: absolute;width: 1px;}#sk-container-id-1 div.sk-estimator {font-family: monospace;background-color: #f0f8ff;border: 1px dotted black;border-radius: 0.25em;box-sizing: border-box;margin-bottom: 0.5em;}#sk-container-id-1 div.sk-estimator:hover {background-color: #d4ebff;}#sk-container-id-1 div.sk-parallel-item::after {content: \"\";width: 100%;border-bottom: 1px solid gray;flex-grow: 1;}#sk-container-id-1 div.sk-label:hover label.sk-toggleable__label {background-color: #d4ebff;}#sk-container-id-1 div.sk-serial::before {content: \"\";position: absolute;border-left: 1px solid gray;box-sizing: border-box;top: 0;bottom: 0;left: 50%;z-index: 0;}#sk-container-id-1 div.sk-serial {display: flex;flex-direction: column;align-items: center;background-color: white;padding-right: 0.2em;padding-left: 0.2em;position: relative;}#sk-container-id-1 div.sk-item {position: relative;z-index: 1;}#sk-container-id-1 div.sk-parallel {display: flex;align-items: stretch;justify-content: center;background-color: white;position: relative;}#sk-container-id-1 div.sk-item::before, #sk-container-id-1 div.sk-parallel-item::before {content: \"\";position: absolute;border-left: 1px solid gray;box-sizing: border-box;top: 0;bottom: 0;left: 50%;z-index: -1;}#sk-container-id-1 div.sk-parallel-item {display: flex;flex-direction: column;z-index: 1;position: relative;background-color: white;}#sk-container-id-1 div.sk-parallel-item:first-child::after {align-self: flex-end;width: 50%;}#sk-container-id-1 div.sk-parallel-item:last-child::after {align-self: flex-start;width: 50%;}#sk-container-id-1 div.sk-parallel-item:only-child::after {width: 0;}#sk-container-id-1 div.sk-dashed-wrapped {border: 1px dashed gray;margin: 0 0.4em 0.5em 0.4em;box-sizing: border-box;padding-bottom: 0.4em;background-color: white;}#sk-container-id-1 div.sk-label label {font-family: monospace;font-weight: bold;display: inline-block;line-height: 1.2em;}#sk-container-id-1 div.sk-label-container {text-align: center;}#sk-container-id-1 div.sk-container {/* jupyter's `normalize.less` sets `[hidden] { display: none; }` but bootstrap.min.css set `[hidden] { display: none !important; }` so we also need the `!important` here to be able to override the default hidden behavior on the sphinx rendered scikit-learn.org. See: https://github.com/scikit-learn/scikit-learn/issues/21755 */display: inline-block !important;position: relative;}#sk-container-id-1 div.sk-text-repr-fallback {display: none;}</style><div id=\"sk-container-id-1\" class=\"sk-top-container\"><div class=\"sk-text-repr-fallback\"><pre>MultinomialNB()</pre><b>In a Jupyter environment, please rerun this cell to show the HTML representation or trust the notebook. <br />On GitHub, the HTML representation is unable to render, please try loading this page with nbviewer.org.</b></div><div class=\"sk-container\" hidden><div class=\"sk-item\"><div class=\"sk-estimator sk-toggleable\"><input class=\"sk-toggleable__control sk-hidden--visually\" id=\"sk-estimator-id-1\" type=\"checkbox\" checked><label for=\"sk-estimator-id-1\" class=\"sk-toggleable__label sk-toggleable__label-arrow\">MultinomialNB</label><div class=\"sk-toggleable__content\"><pre>MultinomialNB()</pre></div></div></div></div></div>"
            ]
          },
          "metadata": {},
          "execution_count": 8
        }
      ]
    },
    {
      "cell_type": "markdown",
      "source": [
        "# `OBS`\n",
        " Em um ambiente Jupyter, execute novamente esta célula para mostrar a representação HTML ou confiar no notebook.\n",
        "No GitHub, a representação HTML não pode ser renderizada, tente carregar esta página com nbviewer.org."
      ],
      "metadata": {
        "id": "EzkpN3lqKJmH"
      }
    },
    {
      "cell_type": "markdown",
      "source": [
        "# *Pipeline*\n",
        "Passo 1, aplicar o count vectorizer nos textos  \n",
        "Passo 2, aplicar o TFIDF nos textos  \n",
        "Passo 3, aplicar o algoritmo Naive Bayes"
      ],
      "metadata": {
        "id": "ZClY2NTUKnIP"
      }
    },
    {
      "cell_type": "code",
      "source": [
        "clf_1 = Pipeline([\n",
        "    ('vect', CountVectorizer()),    \n",
        "    ('tfidf', TfidfTransformer()), \n",
        "    ('clf', MultinomialNB())])"
      ],
      "metadata": {
        "id": "VjACKm2SKvNL"
      },
      "execution_count": 9,
      "outputs": []
    },
    {
      "cell_type": "markdown",
      "source": [
        "Treinando o modelo no pipeline."
      ],
      "metadata": {
        "id": "VXVzQQq6K2oU"
      }
    },
    {
      "cell_type": "code",
      "source": [
        "clf_trained = clf_1.fit(df_train.data, df_train.target)"
      ],
      "metadata": {
        "id": "kfiFPok7LWH8"
      },
      "execution_count": 10,
      "outputs": []
    },
    {
      "cell_type": "markdown",
      "source": [
        "Fazendo predição no dados de teste."
      ],
      "metadata": {
        "id": "4t476AbmLf1D"
      }
    },
    {
      "cell_type": "code",
      "source": [
        "pred = clf_trained.predict(df_test.data)"
      ],
      "metadata": {
        "id": "h0YuAwloLhXn"
      },
      "execution_count": 11,
      "outputs": []
    },
    {
      "cell_type": "code",
      "source": [
        "acc = np.mean(pred == df_test.target)\n",
        "print('>>>> Acurácia: ', acc)"
      ],
      "metadata": {
        "colab": {
          "base_uri": "https://localhost:8080/"
        },
        "id": "7PDCErZiLkbL",
        "outputId": "de9ef817-ad82-499c-e07f-f5345d6514be"
      },
      "execution_count": 12,
      "outputs": [
        {
          "output_type": "stream",
          "name": "stdout",
          "text": [
            ">>>> Acurácia:  0.8232994526974199\n"
          ]
        }
      ]
    },
    {
      "cell_type": "markdown",
      "source": [
        "**Gerando as métricas de acerto do modelo.**"
      ],
      "metadata": {
        "id": "9HTKTlz7LoWy"
      }
    },
    {
      "cell_type": "code",
      "source": [
        "creport = classification_report(df_test.target, pred, target_names=df_test.target_names)\n",
        "print(creport)"
      ],
      "metadata": {
        "colab": {
          "base_uri": "https://localhost:8080/"
        },
        "id": "rBVUzMBALy_v",
        "outputId": "d3f89901-0892-4a7c-9c40-5d7705a057f3"
      },
      "execution_count": 13,
      "outputs": [
        {
          "output_type": "stream",
          "name": "stdout",
          "text": [
            "                          precision    recall  f1-score   support\n",
            "\n",
            "             alt.atheism       0.98      0.54      0.69       319\n",
            "           comp.graphics       0.89      0.74      0.81       389\n",
            " comp.os.ms-windows.misc       0.88      0.68      0.77       394\n",
            "comp.sys.ibm.pc.hardware       0.75      0.84      0.79       392\n",
            "               rec.autos       0.89      0.95      0.92       396\n",
            "         rec.motorcycles       0.93      0.94      0.93       398\n",
            "         sci.electronics       0.89      0.66      0.76       393\n",
            "               sci.space       0.88      0.91      0.89       394\n",
            "  soc.religion.christian       0.57      0.98      0.73       398\n",
            "      talk.politics.guns       0.88      0.95      0.91       364\n",
            "\n",
            "                accuracy                           0.82      3837\n",
            "               macro avg       0.85      0.82      0.82      3837\n",
            "            weighted avg       0.85      0.82      0.82      3837\n",
            "\n"
          ]
        }
      ]
    },
    {
      "cell_type": "markdown",
      "source": [
        "*Nesse modelo utilizando 10 classes (grupos) conseguimos um recall baixo para a metade, vamos tentar da uma melhorada com o tuning.*"
      ],
      "metadata": {
        "id": "LLnJOPQAL3WP"
      }
    },
    {
      "cell_type": "markdown",
      "source": [
        "# **Abordagem II**\n",
        "\n",
        "***Tuning***  \n",
        "*Tuning é uma forma de otimizar os dados para retornar valores mais autos.  \n",
        "Criando uma lista de parâmetros para ajuste.*"
      ],
      "metadata": {
        "id": "YTF2YB0wL-q7"
      }
    },
    {
      "cell_type": "code",
      "source": [
        "parameters = {'vect__ngram_range': [(1, 1), (1, 2)], 'tfidf__use_idf': (True, False), 'clf__alpha': (1e-2, 1e-3)}"
      ],
      "metadata": {
        "id": "nRY9IofKMci1"
      },
      "execution_count": 14,
      "outputs": []
    },
    {
      "cell_type": "markdown",
      "source": [
        "Buscando os melhores parâmetros e treinando o modelo."
      ],
      "metadata": {
        "id": "KFxJ6AHWMgmf"
      }
    },
    {
      "cell_type": "code",
      "source": [
        "gs_clf = GridSearchCV(clf_trained, parameters, n_jobs=-1)  \n",
        "gs_clf = gs_clf.fit(df_train.data, df_train.target) "
      ],
      "metadata": {
        "id": "0QyxGNfkMiRP"
      },
      "execution_count": 16,
      "outputs": []
    },
    {
      "cell_type": "markdown",
      "source": [
        "Mostrando a melhor pontuação."
      ],
      "metadata": {
        "id": "BWUQmbgYMyqR"
      }
    },
    {
      "cell_type": "code",
      "source": [
        "print(gs_clf.best_score_)\n",
        "gs_clf.best_params_\n",
        "     "
      ],
      "metadata": {
        "colab": {
          "base_uri": "https://localhost:8080/"
        },
        "id": "DCQemOatM1G2",
        "outputId": "154fe863-603b-412e-ae0b-1d2fb53082e1"
      },
      "execution_count": 18,
      "outputs": [
        {
          "output_type": "stream",
          "name": "stdout",
          "text": [
            "0.9323625655925843\n"
          ]
        },
        {
          "output_type": "execute_result",
          "data": {
            "text/plain": [
              "{'clf__alpha': 0.001, 'tfidf__use_idf': False, 'vect__ngram_range': (1, 2)}"
            ]
          },
          "metadata": {},
          "execution_count": 18
        }
      ]
    },
    {
      "cell_type": "markdown",
      "source": [
        "depois do tuning temos um valor aceitavel.\n",
        "\n",
        "---\n",
        "---\n",
        "\n"
      ],
      "metadata": {
        "id": "vvdx-5m1RA1k"
      }
    },
    {
      "cell_type": "markdown",
      "source": [
        "*Prediçao no dado de teste.*"
      ],
      "metadata": {
        "id": "7ItjAvrvRGcz"
      }
    },
    {
      "cell_type": "code",
      "source": [
        "pred = gs_clf.predict(df_test.data)"
      ],
      "metadata": {
        "id": "SgkGg-6tRQAb"
      },
      "execution_count": 19,
      "outputs": []
    },
    {
      "cell_type": "code",
      "source": [
        "acc = np.mean(pred == df_test.target)\n",
        "print('>>>> Acurácia: ', acc)"
      ],
      "metadata": {
        "colab": {
          "base_uri": "https://localhost:8080/"
        },
        "id": "KskTLLsCRQcZ",
        "outputId": "1827e63b-6715-482b-954d-4920f68b2750"
      },
      "execution_count": 20,
      "outputs": [
        {
          "output_type": "stream",
          "name": "stdout",
          "text": [
            ">>>> Acurácia:  0.8665624185561637\n"
          ]
        }
      ]
    },
    {
      "cell_type": "markdown",
      "source": [
        "# ***A ideia era ele apresentar um valor mais alto, para isso é so mudar o modelo.***"
      ],
      "metadata": {
        "id": "8SFL6h1wRWi-"
      }
    },
    {
      "cell_type": "code",
      "source": [
        "creport = classification_report(df_test.target, pred, target_names=df_test.target_names)\n",
        "print(creport)"
      ],
      "metadata": {
        "colab": {
          "base_uri": "https://localhost:8080/"
        },
        "id": "pMSOCT7PRlBB",
        "outputId": "2012063a-d09e-4c99-a686-6c0ccbae2d0a"
      },
      "execution_count": 21,
      "outputs": [
        {
          "output_type": "stream",
          "name": "stdout",
          "text": [
            "                          precision    recall  f1-score   support\n",
            "\n",
            "             alt.atheism       0.97      0.88      0.92       319\n",
            "           comp.graphics       0.80      0.82      0.81       389\n",
            " comp.os.ms-windows.misc       0.82      0.65      0.72       394\n",
            "comp.sys.ibm.pc.hardware       0.69      0.82      0.75       392\n",
            "               rec.autos       0.92      0.92      0.92       396\n",
            "         rec.motorcycles       0.96      0.95      0.95       398\n",
            "         sci.electronics       0.84      0.77      0.80       393\n",
            "               sci.space       0.91      0.93      0.92       394\n",
            "  soc.religion.christian       0.88      0.96      0.92       398\n",
            "      talk.politics.guns       0.94      0.98      0.96       364\n",
            "\n",
            "                accuracy                           0.87      3837\n",
            "               macro avg       0.87      0.87      0.87      3837\n",
            "            weighted avg       0.87      0.87      0.87      3837\n",
            "\n"
          ]
        }
      ]
    },
    {
      "cell_type": "markdown",
      "source": [
        "# **Abordagem III**  \n",
        "Vamos treinar um segundo modelo.  \n",
        "\n",
        "***Treinando um segundo modelo***"
      ],
      "metadata": {
        "id": "6FjouZQwRomM"
      }
    },
    {
      "cell_type": "code",
      "source": [
        "clf_2 = Pipeline([\n",
        "    ('vect', CountVectorizer()), \n",
        "    ('tfidf', TfidfTransformer()), \n",
        "    ('clf-svm', SGDClassifier(loss='hinge', penalty='l2', alpha=1e-3, max_iter=25, random_state=42))])"
      ],
      "metadata": {
        "id": "3mve1RpgR--6"
      },
      "execution_count": 22,
      "outputs": []
    },
    {
      "cell_type": "code",
      "source": [
        "svm_trained = clf_2.fit(df_train.data, df_train.target)"
      ],
      "metadata": {
        "id": "4xdA7eWCSF3Z"
      },
      "execution_count": 23,
      "outputs": []
    },
    {
      "cell_type": "code",
      "source": [
        "pred_1 = svm_trained.predict(df_test.data)"
      ],
      "metadata": {
        "id": "2kuNe8mySICE"
      },
      "execution_count": 24,
      "outputs": []
    },
    {
      "cell_type": "code",
      "source": [
        "acc_2 = np.mean(pred_1 == df_test.target)\n",
        "print('>>>> Acurácia: ', acc_2)"
      ],
      "metadata": {
        "colab": {
          "base_uri": "https://localhost:8080/"
        },
        "id": "YJ6EKZM7SMtA",
        "outputId": "6db5de01-c4cf-4260-c44a-00d2971714e7"
      },
      "execution_count": 25,
      "outputs": [
        {
          "output_type": "stream",
          "name": "stdout",
          "text": [
            ">>>> Acurácia:  0.8759447485014334\n"
          ]
        }
      ]
    },
    {
      "cell_type": "code",
      "source": [
        "creport_2 = classification_report(df_test.target, pred_1, target_names=df_test.target_names)\n",
        "print(creport_2)"
      ],
      "metadata": {
        "colab": {
          "base_uri": "https://localhost:8080/"
        },
        "id": "5PlhPwRRSPvd",
        "outputId": "8212eea2-50ac-4d9c-f21b-de2837d30e56"
      },
      "execution_count": 26,
      "outputs": [
        {
          "output_type": "stream",
          "name": "stdout",
          "text": [
            "                          precision    recall  f1-score   support\n",
            "\n",
            "             alt.atheism       0.91      0.77      0.84       319\n",
            "           comp.graphics       0.90      0.84      0.87       389\n",
            " comp.os.ms-windows.misc       0.82      0.84      0.83       394\n",
            "comp.sys.ibm.pc.hardware       0.78      0.79      0.78       392\n",
            "               rec.autos       0.91      0.94      0.93       396\n",
            "         rec.motorcycles       0.93      0.97      0.95       398\n",
            "         sci.electronics       0.89      0.72      0.79       393\n",
            "               sci.space       0.89      0.96      0.92       394\n",
            "  soc.religion.christian       0.82      0.96      0.89       398\n",
            "      talk.politics.guns       0.94      0.96      0.95       364\n",
            "\n",
            "                accuracy                           0.88      3837\n",
            "               macro avg       0.88      0.87      0.87      3837\n",
            "            weighted avg       0.88      0.88      0.87      3837\n",
            "\n"
          ]
        }
      ]
    },
    {
      "cell_type": "markdown",
      "source": [
        "# ***Abordagem IV***\n",
        "***Tuning***"
      ],
      "metadata": {
        "id": "9ceauxtdSUm2"
      }
    },
    {
      "cell_type": "code",
      "source": [
        "parameters_svm = {'vect__ngram_range': [(1, 1), (1, 2)], 'tfidf__use_idf': (True, False),'clf-svm__alpha': (1e-2, 1e-3)}"
      ],
      "metadata": {
        "id": "9_U_XIGwSexh"
      },
      "execution_count": 27,
      "outputs": []
    },
    {
      "cell_type": "code",
      "source": [
        "gs_clf_svm = GridSearchCV(svm_trained, parameters_svm, n_jobs=-1)\n",
        "gs_clf_svm = gs_clf_svm.fit(df_train.data, df_train.target)"
      ],
      "metadata": {
        "id": "xkKgNaleSm4c"
      },
      "execution_count": 28,
      "outputs": []
    },
    {
      "cell_type": "code",
      "source": [
        "print(gs_clf_svm.best_score_)\n",
        "gs_clf_svm.best_params_"
      ],
      "metadata": {
        "colab": {
          "base_uri": "https://localhost:8080/"
        },
        "id": "DgqzmMTXSrAe",
        "outputId": "f95c8b3f-25d1-4453-a5f8-088fef685269"
      },
      "execution_count": 29,
      "outputs": [
        {
          "output_type": "stream",
          "name": "stdout",
          "text": [
            "0.9247315044319617\n"
          ]
        },
        {
          "output_type": "execute_result",
          "data": {
            "text/plain": [
              "{'clf-svm__alpha': 0.001, 'tfidf__use_idf': True, 'vect__ngram_range': (1, 2)}"
            ]
          },
          "metadata": {},
          "execution_count": 29
        }
      ]
    },
    {
      "cell_type": "code",
      "source": [
        "pred = gs_clf_svm.predict(df_test.data)"
      ],
      "metadata": {
        "id": "qhVNfv2XTnLf"
      },
      "execution_count": 30,
      "outputs": []
    },
    {
      "cell_type": "code",
      "source": [
        "acc = np.mean(pred == df_test.target)\n",
        "print('>>>> Acurácia: ', acc)"
      ],
      "metadata": {
        "colab": {
          "base_uri": "https://localhost:8080/"
        },
        "id": "sny6hV3yTqYV",
        "outputId": "a34a0dd7-9c2b-4dc7-eebc-a7755c7cc7a5"
      },
      "execution_count": 32,
      "outputs": [
        {
          "output_type": "stream",
          "name": "stdout",
          "text": [
            ">>>> Acurácia:  0.870471722700026\n"
          ]
        }
      ]
    },
    {
      "cell_type": "code",
      "source": [
        "creport = classification_report(df_test.target, pred, target_names=df_test.target_names)\n",
        "print(creport)"
      ],
      "metadata": {
        "colab": {
          "base_uri": "https://localhost:8080/"
        },
        "id": "HGx5mwC6Tx64",
        "outputId": "f6ef7617-cc5a-4c67-8011-55fd35a05f5d"
      },
      "execution_count": 33,
      "outputs": [
        {
          "output_type": "stream",
          "name": "stdout",
          "text": [
            "                          precision    recall  f1-score   support\n",
            "\n",
            "             alt.atheism       0.89      0.78      0.83       319\n",
            "           comp.graphics       0.89      0.81      0.85       389\n",
            " comp.os.ms-windows.misc       0.83      0.82      0.82       394\n",
            "comp.sys.ibm.pc.hardware       0.78      0.79      0.79       392\n",
            "               rec.autos       0.92      0.92      0.92       396\n",
            "         rec.motorcycles       0.92      0.97      0.95       398\n",
            "         sci.electronics       0.91      0.71      0.80       393\n",
            "               sci.space       0.87      0.95      0.91       394\n",
            "  soc.religion.christian       0.80      0.96      0.87       398\n",
            "      talk.politics.guns       0.91      0.97      0.94       364\n",
            "\n",
            "                accuracy                           0.87      3837\n",
            "               macro avg       0.87      0.87      0.87      3837\n",
            "            weighted avg       0.87      0.87      0.87      3837\n",
            "\n"
          ]
        }
      ]
    }
  ]
}